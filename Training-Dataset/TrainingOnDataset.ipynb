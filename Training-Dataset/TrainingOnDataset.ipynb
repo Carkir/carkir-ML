{
  "nbformat": 4,
  "nbformat_minor": 0,
  "metadata": {
    "colab": {
      "name": "carkir-ModelGenerator.ipynb",
      "provenance": []
    },
    "kernelspec": {
      "name": "python3",
      "display_name": "Python 3"
    },
    "language_info": {
      "name": "python"
    },
    "accelerator": "GPU"
  },
  "cells": [
    {
      "cell_type": "markdown",
      "source": [
        "# **AI Model of Carkir**\n"
      ],
      "metadata": {
        "id": "7ofGG1ZNTmeV"
      }
    },
    {
      "cell_type": "markdown",
      "source": [
        "## import the libraries"
      ],
      "metadata": {
        "id": "0lezDosbT05F"
      }
    },
    {
      "cell_type": "code",
      "execution_count": 1,
      "metadata": {
        "id": "ePO2_oi-Sw3U"
      },
      "outputs": [],
      "source": [
        "import os\n",
        "import zipfile\n",
        "import random\n",
        "import shutil\n",
        "import tensorflow as tf\n",
        "from tensorflow.keras.preprocessing.image import ImageDataGenerator\n",
        "from shutil import copyfile\n",
        "import matplotlib.pyplot as plt"
      ]
    },
    {
      "cell_type": "code",
      "source": [
        "print(tf.__version__)"
      ],
      "metadata": {
        "colab": {
          "base_uri": "https://localhost:8080/"
        },
        "id": "HxW5sUWoXmZK",
        "outputId": "7a5ee276-3a45-4e10-a72f-63101545d626"
      },
      "execution_count": 2,
      "outputs": [
        {
          "output_type": "stream",
          "name": "stdout",
          "text": [
            "2.8.0\n"
          ]
        }
      ]
    },
    {
      "cell_type": "code",
      "source": [
        "!python --version"
      ],
      "metadata": {
        "colab": {
          "base_uri": "https://localhost:8080/"
        },
        "id": "91tzEiXUXnfj",
        "outputId": "827f66a5-c5ca-414b-812a-058948fc20b1"
      },
      "execution_count": 3,
      "outputs": [
        {
          "output_type": "stream",
          "name": "stdout",
          "text": [
            "Python 3.7.13\n"
          ]
        }
      ]
    },
    {
      "cell_type": "markdown",
      "source": [
        "## extracting the dataset and splitting it to train and validation dataset"
      ],
      "metadata": {
        "id": "3HL8Q1VSUIn_"
      }
    },
    {
      "cell_type": "code",
      "source": [
        "local_zip = '/content/parking-dataset.zip'\n",
        "zip_ref = zipfile.ZipFile(local_zip, 'r')\n",
        "zip_ref.extractall('/content')\n",
        "zip_ref.close()"
      ],
      "metadata": {
        "id": "wt0HtbLXSyt0"
      },
      "execution_count": 4,
      "outputs": []
    },
    {
      "cell_type": "code",
      "source": [
        "source_path = '/content/Parking Slot'\n",
        "\n",
        "source_path_empty = os.path.join(source_path, 'empty')\n",
        "source_path_occupied = os.path.join(source_path, 'occupied')\n",
        "\n",
        "print(f\"There {len(os.listdir(source_path_empty))} images of empty parking slot.\")\n",
        "print(f\"There {len(os.listdir(source_path_occupied))} images of occupied parking slot.\")"
      ],
      "metadata": {
        "colab": {
          "base_uri": "https://localhost:8080/"
        },
        "id": "tr7Q0Fs5S1ud",
        "outputId": "038f5f2a-367a-4e84-e6c6-9da747b5886b"
      },
      "execution_count": 5,
      "outputs": [
        {
          "output_type": "stream",
          "name": "stdout",
          "text": [
            "There 622 images of empty parking slot.\n",
            "There 802 images of occupied parking slot.\n"
          ]
        }
      ]
    },
    {
      "cell_type": "code",
      "source": [
        "root_dir = '/content/parking-slot'\n",
        "\n",
        "if os.path.exists(root_dir):\n",
        "  shutil.rmtree(root_dir)\n",
        "\n",
        "def create_train_val_dirs(root_path):\n",
        "  os.mkdir('/content/parking-slot')\n",
        "  os.mkdir('/content/parking-slot/training')\n",
        "  os.mkdir('/content/parking-slot/validation')\n",
        "  os.mkdir('/content/parking-slot/training/empty')\n",
        "  os.mkdir('/content/parking-slot/training/occupied')\n",
        "  os.mkdir('/content/parking-slot/validation/empty')\n",
        "  os.mkdir('/content/parking-slot/validation/occupied')\n",
        "\n",
        "  pass\n",
        "\n",
        "try:\n",
        "  create_train_val_dirs(root_path=root_dir)\n",
        "except FileExistsError:\n",
        "  print(\"You should not be seeing this since the upper directory is removed beforehand\")"
      ],
      "metadata": {
        "id": "XiqDaqe_S5L9"
      },
      "execution_count": 6,
      "outputs": []
    },
    {
      "cell_type": "code",
      "source": [
        "def split_data(SOURCE_DIR, TRAINING_DIR, VALIDATION_DIR, SPLIT_SIZE):\n",
        "  files=[]\n",
        "  for filename in os.listdir(SOURCE_DIR):\n",
        "    file = SOURCE_DIR + filename\n",
        "    if os.path.getsize(file) > 0:\n",
        "      files.append(filename)\n",
        "    else:\n",
        "      print('File is empty')\n",
        "\n",
        "    training_length = int(len(files) * SPLIT_SIZE)\n",
        "    testing_length = int(len(files) - training_length)\n",
        "    shuffled_set = random.sample(files, len(files))\n",
        "    training_set = shuffled_set[0:training_length]\n",
        "    testing_set = shuffled_set[-testing_length:]\n",
        "  \n",
        "  for filename in training_set:\n",
        "    src_file = SOURCE_DIR + filename\n",
        "    dest_file = TRAINING_DIR + filename\n",
        "    copyfile(src_file, dest_file)\n",
        "    \n",
        "  for filename in testing_set:\n",
        "    src_file = SOURCE_DIR + filename\n",
        "    dest_file = VALIDATION_DIR + filename\n",
        "    copyfile(src_file, dest_file)"
      ],
      "metadata": {
        "id": "B5_CnlEES9es"
      },
      "execution_count": 7,
      "outputs": []
    },
    {
      "cell_type": "code",
      "source": [
        "EMPTY_SOURCE_DIR = \"/content/Parking Slot/empty/\"\n",
        "OCCUPIED_SOURCE_DIR = \"/content/Parking Slot/occupied/\"\n",
        "\n",
        "TRAINING_DIR = \"/content/parking-slot/training/\"\n",
        "VALIDATION_DIR = \"/content/parking-slot/validation/\"\n",
        "\n",
        "TRAINING_EMPTY_DIR = os.path.join(TRAINING_DIR, \"empty/\")\n",
        "VALIDATION_EMPTY_DIR = os.path.join(VALIDATION_DIR, \"empty/\")\n",
        "\n",
        "TRAINING_OCCUPIED_DIR = os.path.join(TRAINING_DIR, \"occupied/\")\n",
        "VALIDATION_OCCUPIED_DIR = os.path.join(VALIDATION_DIR, \"occupied/\")\n",
        "\n",
        "if len(os.listdir(TRAINING_EMPTY_DIR)) > 0:\n",
        "  for file in os.scandir(TRAINING_EMPTY_DIR):\n",
        "    os.remove(file.path)\n",
        "if len(os.listdir(TRAINING_OCCUPIED_DIR)) > 0:\n",
        "  for file in os.scandir(TRAINING_OCCUPIED_DIR):\n",
        "    os.remove(file.path)\n",
        "if len(os.listdir(VALIDATION_EMPTY_DIR)) > 0:\n",
        "  for file in os.scandir(VALIDATION_EMPTY_DIR):\n",
        "    os.remove(file.path)\n",
        "if len(os.listdir(VALIDATION_OCCUPIED_DIR)) > 0:\n",
        "  for file in os.scandir(VALIDATION_OCCUPIED_DIR):\n",
        "    os.remove(file.path)\n",
        "\n",
        "# Define proportion of images used for training\n",
        "split_size = .9\n",
        "\n",
        "split_data(EMPTY_SOURCE_DIR, TRAINING_EMPTY_DIR, VALIDATION_EMPTY_DIR, split_size)\n",
        "split_data(OCCUPIED_SOURCE_DIR, TRAINING_OCCUPIED_DIR, VALIDATION_OCCUPIED_DIR, split_size)\n",
        "\n",
        "# Check that the number of images matches the expected output\n",
        "print(f\"\\n\\nThere are {len(os.listdir(TRAINING_EMPTY_DIR))} images of empty parking slot for training\")\n",
        "print(f\"There are {len(os.listdir(TRAINING_OCCUPIED_DIR))} images of occupied parking slot for training\")\n",
        "print(f\"There are {len(os.listdir(VALIDATION_EMPTY_DIR))} images of empty parking slot for validation\")\n",
        "print(f\"There are {len(os.listdir(VALIDATION_OCCUPIED_DIR))} images of occupied parking slot for validation\")"
      ],
      "metadata": {
        "colab": {
          "base_uri": "https://localhost:8080/"
        },
        "id": "Z7Romt35S-E9",
        "outputId": "670af065-0dcc-48b2-8053-8e5eea257a5e"
      },
      "execution_count": 8,
      "outputs": [
        {
          "output_type": "stream",
          "name": "stdout",
          "text": [
            "\n",
            "\n",
            "There are 559 images of empty parking slot for training\n",
            "There are 721 images of occupied parking slot for training\n",
            "There are 63 images of empty parking slot for validation\n",
            "There are 81 images of occupied parking slot for validation\n"
          ]
        }
      ]
    },
    {
      "cell_type": "markdown",
      "source": [
        "## making the model with transfer learning"
      ],
      "metadata": {
        "id": "nBFsiML2UZDO"
      }
    },
    {
      "cell_type": "code",
      "source": [
        "from keras.applications.vgg16 import VGG16\n",
        "from tensorflow.keras import layers\n",
        "from tensorflow.keras import Model\n",
        "from tensorflow.keras import optimizers\n",
        "\n",
        "pre_trained_model = VGG16(weights = \"imagenet\", include_top=False, input_shape = (48, 48, 3))\n",
        "# Freeze the layers which you don't want to train. Here I am freezing the first 5 layers.\n",
        "for layer in pre_trained_model.layers[:10]:\n",
        "    layer.trainable = False"
      ],
      "metadata": {
        "colab": {
          "base_uri": "https://localhost:8080/"
        },
        "id": "yNPou-aTTADE",
        "outputId": "6c34f201-c7d2-4063-efb0-dcddf842af1a"
      },
      "execution_count": 9,
      "outputs": [
        {
          "output_type": "stream",
          "name": "stdout",
          "text": [
            "Downloading data from https://storage.googleapis.com/tensorflow/keras-applications/vgg16/vgg16_weights_tf_dim_ordering_tf_kernels_notop.h5\n",
            "58892288/58889256 [==============================] - 0s 0us/step\n",
            "58900480/58889256 [==============================] - 0s 0us/step\n"
          ]
        }
      ]
    },
    {
      "cell_type": "code",
      "source": [
        "x = pre_trained_model.output\n",
        "x = layers.Flatten()(x)\n",
        "x = layers.Dense(512, activation = \"relu\")(x)\n",
        "x = layers.Dropout(0.5)(x)\n",
        "x = layers.Dense(256, activation = \"relu\")(x)\n",
        "x = layers.Dropout(0.5)(x)\n",
        "x = layers.Dense(2, activation=\"softmax\")(x)\n",
        "\n",
        "model = Model(pre_trained_model.input, x)\n",
        "model.compile(loss = 'categorical_crossentropy',\n",
        "              optimizer = optimizers.SGD(lr=0.0001, momentum=0.9),\n",
        "              metrics = ['accuracy'])"
      ],
      "metadata": {
        "colab": {
          "base_uri": "https://localhost:8080/"
        },
        "id": "dgkk5yMMTBrF",
        "outputId": "f2fda630-f452-43c6-c6b5-0ea156399eae"
      },
      "execution_count": 10,
      "outputs": [
        {
          "output_type": "stream",
          "name": "stderr",
          "text": [
            "/usr/local/lib/python3.7/dist-packages/keras/optimizer_v2/gradient_descent.py:102: UserWarning: The `lr` argument is deprecated, use `learning_rate` instead.\n",
            "  super(SGD, self).__init__(name, **kwargs)\n"
          ]
        }
      ]
    },
    {
      "cell_type": "code",
      "source": [
        "train_datagen = ImageDataGenerator(rescale = 1./255.,\n",
        "                                   horizontal_flip = True,\n",
        "                                   fill_mode = 'nearest',\n",
        "                                   zoom_range = 0.1,\n",
        "                                   width_shift_range = 0.1,\n",
        "                                   height_shift_range=0.1,\n",
        "                                   rotation_range=5)\n",
        "\n",
        "test_datagen = ImageDataGenerator(rescale = 1./255.,\n",
        "                                   horizontal_flip = True,\n",
        "                                   fill_mode = 'nearest',\n",
        "                                   zoom_range = 0.1,\n",
        "                                   width_shift_range = 0.1,\n",
        "                                   height_shift_range=0.1,\n",
        "                                   rotation_range=5)\n",
        "\n",
        "TRAINING_DIR = '/content/parking-slot/training'\n",
        "VALIDATION_DIR = '/content/parking-slot/validation'\n",
        "\n",
        "train_generator = train_datagen.flow_from_directory(directory = TRAINING_DIR,\n",
        "                                                    target_size = (48, 48),\n",
        "                                                    batch_size = 32,\n",
        "                                                    class_mode = \"categorical\")\n",
        "\n",
        "validation_generator = test_datagen.flow_from_directory(directory = VALIDATION_DIR,\n",
        "                                                    target_size = (48, 48),\n",
        "                                                    batch_size = 32,\n",
        "                                                    class_mode = \"categorical\")"
      ],
      "metadata": {
        "colab": {
          "base_uri": "https://localhost:8080/"
        },
        "id": "3EDMxNNRTDuE",
        "outputId": "35eef7e9-3fb7-42ea-9674-a219589e1c63"
      },
      "execution_count": 11,
      "outputs": [
        {
          "output_type": "stream",
          "name": "stdout",
          "text": [
            "Found 1280 images belonging to 2 classes.\n",
            "Found 144 images belonging to 2 classes.\n"
          ]
        }
      ]
    },
    {
      "cell_type": "markdown",
      "source": [
        "## train the model"
      ],
      "metadata": {
        "id": "oEv9f1MJUf3L"
      }
    },
    {
      "cell_type": "code",
      "source": [
        "history = model.fit(train_generator,\n",
        "                    epochs=15,\n",
        "                    verbose=1,\n",
        "                    validation_data=validation_generator)"
      ],
      "metadata": {
        "colab": {
          "base_uri": "https://localhost:8080/"
        },
        "id": "hOcQqRRcTFZT",
        "outputId": "b39461d6-6d70-4d21-eca3-5b0717f10c4a"
      },
      "execution_count": 12,
      "outputs": [
        {
          "output_type": "stream",
          "name": "stdout",
          "text": [
            "Epoch 1/15\n",
            "40/40 [==============================] - 14s 63ms/step - loss: 0.7158 - accuracy: 0.5977 - val_loss: 0.4450 - val_accuracy: 0.9028\n",
            "Epoch 2/15\n",
            "40/40 [==============================] - 2s 51ms/step - loss: 0.4288 - accuracy: 0.8008 - val_loss: 0.2335 - val_accuracy: 0.9167\n",
            "Epoch 3/15\n",
            "40/40 [==============================] - 3s 68ms/step - loss: 0.2428 - accuracy: 0.9187 - val_loss: 0.1479 - val_accuracy: 0.9444\n",
            "Epoch 4/15\n",
            "40/40 [==============================] - 2s 50ms/step - loss: 0.1496 - accuracy: 0.9531 - val_loss: 0.1344 - val_accuracy: 0.9375\n",
            "Epoch 5/15\n",
            "40/40 [==============================] - 2s 50ms/step - loss: 0.1342 - accuracy: 0.9586 - val_loss: 0.0847 - val_accuracy: 0.9653\n",
            "Epoch 6/15\n",
            "40/40 [==============================] - 2s 50ms/step - loss: 0.1055 - accuracy: 0.9672 - val_loss: 0.0810 - val_accuracy: 0.9722\n",
            "Epoch 7/15\n",
            "40/40 [==============================] - 2s 50ms/step - loss: 0.0855 - accuracy: 0.9742 - val_loss: 0.0717 - val_accuracy: 0.9722\n",
            "Epoch 8/15\n",
            "40/40 [==============================] - 2s 50ms/step - loss: 0.0942 - accuracy: 0.9758 - val_loss: 0.0880 - val_accuracy: 0.9653\n",
            "Epoch 9/15\n",
            "40/40 [==============================] - 2s 51ms/step - loss: 0.0775 - accuracy: 0.9789 - val_loss: 0.0619 - val_accuracy: 0.9792\n",
            "Epoch 10/15\n",
            "40/40 [==============================] - 2s 50ms/step - loss: 0.0795 - accuracy: 0.9805 - val_loss: 0.0590 - val_accuracy: 0.9722\n",
            "Epoch 11/15\n",
            "40/40 [==============================] - 2s 51ms/step - loss: 0.0776 - accuracy: 0.9797 - val_loss: 0.0661 - val_accuracy: 0.9792\n",
            "Epoch 12/15\n",
            "40/40 [==============================] - 2s 50ms/step - loss: 0.0739 - accuracy: 0.9820 - val_loss: 0.0511 - val_accuracy: 0.9861\n",
            "Epoch 13/15\n",
            "40/40 [==============================] - 2s 51ms/step - loss: 0.0534 - accuracy: 0.9852 - val_loss: 0.0728 - val_accuracy: 0.9722\n",
            "Epoch 14/15\n",
            "40/40 [==============================] - 2s 51ms/step - loss: 0.0626 - accuracy: 0.9852 - val_loss: 0.0397 - val_accuracy: 0.9861\n",
            "Epoch 15/15\n",
            "40/40 [==============================] - 2s 50ms/step - loss: 0.0608 - accuracy: 0.9828 - val_loss: 0.0445 - val_accuracy: 0.9861\n"
          ]
        }
      ]
    },
    {
      "cell_type": "code",
      "source": [
        "%matplotlib inline\n",
        "\n",
        "import matplotlib.image  as mpimg\n",
        "import matplotlib.pyplot as plt\n",
        "\n",
        "#-----------------------------------------------------------\n",
        "# Retrieve a list of list results on training and test data\n",
        "# sets for each training epoch\n",
        "#-----------------------------------------------------------\n",
        "acc=history.history['accuracy']\n",
        "val_acc=history.history['val_accuracy']\n",
        "loss=history.history['loss']\n",
        "val_loss=history.history['val_loss']\n",
        "\n",
        "epochs=range(len(acc)) # Get number of epochs\n",
        "\n",
        "#------------------------------------------------\n",
        "# Plot training and validation accuracy per epoch\n",
        "#------------------------------------------------\n",
        "plt.plot(epochs, acc, 'r', \"Training Accuracy\")\n",
        "plt.plot(epochs, val_acc, 'b', \"Validation Accuracy\")\n",
        "plt.title('Training and validation accuracy')\n",
        "plt.figure()\n",
        "\n",
        "#------------------------------------------------\n",
        "# Plot training and validation loss per epoch\n",
        "#------------------------------------------------\n",
        "plt.plot(epochs, loss, 'r', \"Training Loss\")\n",
        "plt.plot(epochs, val_loss, 'b', \"Validation Loss\")\n",
        "\n",
        "\n",
        "plt.title('Training and validation loss')"
      ],
      "metadata": {
        "colab": {
          "base_uri": "https://localhost:8080/",
          "height": 563
        },
        "id": "9XAp4Yo5TIo0",
        "outputId": "80ce6f14-6ad7-4f12-b844-384352c9bb13"
      },
      "execution_count": 13,
      "outputs": [
        {
          "output_type": "execute_result",
          "data": {
            "text/plain": [
              "Text(0.5, 1.0, 'Training and validation loss')"
            ]
          },
          "metadata": {},
          "execution_count": 13
        },
        {
          "output_type": "display_data",
          "data": {
            "text/plain": [
              "<Figure size 432x288 with 1 Axes>"
            ],
            "image/png": "[encoded data removed]"
          },
          "metadata": {
            "needs_background": "light"
          }
        },
        {
          "output_type": "display_data",
          "data": {
            "text/plain": [
              "<Figure size 432x288 with 1 Axes>"
            ],
            "image/png": "[encoded data removed]"
          },
          "metadata": {
            "needs_background": "light"
          }
        }
      ]
    },
    {
      "cell_type": "markdown",
      "source": [
        "## save the model"
      ],
      "metadata": {
        "id": "ur5rsgj2UkR9"
      }
    },
    {
      "cell_type": "code",
      "source": [
        "!mkdir -p saved_model\n",
        "model.save('saved_model/carkir')"
      ],
      "metadata": {
        "id": "wD5kneN3TK4M",
        "colab": {
          "base_uri": "https://localhost:8080/"
        },
        "outputId": "c9870c87-97d4-48ba-fa80-bb99b3a5d58d"
      },
      "execution_count": 14,
      "outputs": [
        {
          "output_type": "stream",
          "name": "stdout",
          "text": [
            "INFO:tensorflow:Assets written to: saved_model/carkir/assets\n"
          ]
        }
      ]
    },
    {
      "cell_type": "code",
      "source": [
        "# my_model directory\n",
        "! ls saved_model\n",
        "\n",
        "# Contains an assets folder, saved_model.pb, and variables folder.\n",
        "! ls saved_model/carkir"
      ],
      "metadata": {
        "colab": {
          "base_uri": "https://localhost:8080/"
        },
        "id": "z0b1b18tg_8W",
        "outputId": "fdd47449-bd0d-491f-f889-d4fa2e197ae8"
      },
      "execution_count": 15,
      "outputs": [
        {
          "output_type": "stream",
          "name": "stdout",
          "text": [
            "carkir\n",
            "assets\tkeras_metadata.pb  saved_model.pb  variables\n"
          ]
        }
      ]
    },
    {
      "cell_type": "code",
      "source": [
        "model.save('carkir.h5')"
      ],
      "metadata": {
        "id": "qrlEdbJWh2Ie"
      },
      "execution_count": 19,
      "outputs": []
    }
  ]
}